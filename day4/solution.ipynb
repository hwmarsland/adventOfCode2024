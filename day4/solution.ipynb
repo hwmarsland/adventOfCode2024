{
 "cells": [
  {
   "cell_type": "code",
   "execution_count": 1,
   "metadata": {},
   "outputs": [],
   "source": [
    "data = open(\"input.txt\", 'r').read().split('\\n')\n",
    "for i in range(len(data)):\n",
    "    data[i] = list(data[i])\n",
    "\n",
    "# data"
   ]
  },
  {
   "cell_type": "code",
   "execution_count": 2,
   "metadata": {},
   "outputs": [],
   "source": [
    "# Part 1\n",
    "def inBounds(x, y):\n",
    "    if y >= len(data) or x >= len(data[0]):\n",
    "        return False\n",
    "    elif y < 0 or x < 0:\n",
    "        return False\n",
    "    else:\n",
    "        return True"
   ]
  },
  {
   "cell_type": "code",
   "execution_count": 3,
   "metadata": {},
   "outputs": [
    {
     "data": {
      "text/plain": [
       "2560"
      ]
     },
     "execution_count": 3,
     "metadata": {},
     "output_type": "execute_result"
    }
   ],
   "source": [
    "count = 0\n",
    "for y in range(len(data)):\n",
    "    for x in range(len(data[y])):\n",
    "        # Right\n",
    "        if data[y][x] == 'X' and inBounds(x+3,y+3) and data[y+1][x+1] == 'M' and data[y+2][x+2] == 'A' and data[y+3][x+3] == 'S':\n",
    "            count += 1\n",
    "        if data[y][x] == 'X' and inBounds(x+3,y) and data[y][x+1] == 'M' and data[y][x+2] == 'A' and data[y][x+3] == 'S':\n",
    "            count += 1\n",
    "        if data[y][x] == 'X' and inBounds(x+3,y-3) and data[y-1][x+1] == 'M' and data[y-2][x+2] == 'A' and data[y-3][x+3] == 'S':\n",
    "            count += 1\n",
    "        # Up/Down\n",
    "        if data[y][x] == 'X' and inBounds(x,y+3) and data[y+1][x] == 'M' and data[y+2][x] == 'A' and data[y+3][x] == 'S':\n",
    "            count += 1\n",
    "        if data[y][x] == 'X' and inBounds(x,y-3) and data[y-1][x] == 'M' and data[y-2][x] == 'A' and data[y-3][x] == 'S':\n",
    "            count += 1\n",
    "        # Left\n",
    "        if data[y][x] == 'X' and inBounds(x-3,y+3) and data[y+1][x-1] == 'M' and data[y+2][x-2] == 'A' and data[y+3][x-3] == 'S':\n",
    "            count += 1\n",
    "        if data[y][x] == 'X' and inBounds(x-3,y) and data[y][x-1] == 'M' and data[y][x-2] == 'A' and data[y][x-3] == 'S':\n",
    "            count += 1\n",
    "        if data[y][x] == 'X' and inBounds(x-3,y-3) and data[y-1][x-1] == 'M' and data[y-2][x-2] == 'A' and data[y-3][x-3] == 'S':\n",
    "            count += 1\n",
    "\n",
    "count    "
   ]
  },
  {
   "cell_type": "code",
   "execution_count": 4,
   "metadata": {},
   "outputs": [
    {
     "data": {
      "text/plain": [
       "1910"
      ]
     },
     "execution_count": 4,
     "metadata": {},
     "output_type": "execute_result"
    }
   ],
   "source": [
    "# Part 2\n",
    "count = 0\n",
    "for y in range(1, len(data)-1):\n",
    "    for x in range(1, len(data[y]) - 1):\n",
    "        if data[y][x] == 'A' and ((data[y+1][x+1] == 'M' and data[y-1][x-1] == 'S') or (data[y+1][x+1] == 'S' and data[y-1][x-1] == 'M')) and ((data[y+1][x-1] == 'M' and data[y-1][x+1] == 'S') or (data[y+1][x-1] == 'S' and data[y-1][x+1] == 'M')):\n",
    "            count += 1\n",
    "\n",
    "count"
   ]
  }
 ],
 "metadata": {
  "kernelspec": {
   "display_name": "Python 3",
   "language": "python",
   "name": "python3"
  },
  "language_info": {
   "codemirror_mode": {
    "name": "ipython",
    "version": 3
   },
   "file_extension": ".py",
   "mimetype": "text/x-python",
   "name": "python",
   "nbconvert_exporter": "python",
   "pygments_lexer": "ipython3",
   "version": "3.13.0"
  }
 },
 "nbformat": 4,
 "nbformat_minor": 2
}
