{
 "cells": [
  {
   "cell_type": "code",
   "execution_count": 111,
   "metadata": {},
   "outputs": [],
   "source": [
    "# Part 1\n",
    "data = open('input.txt', 'r').read().split('\\n')\n",
    "\n",
    "for i in range(len(data)):\n",
    "    data[i] = [int(a) for a in data[i].split()]\n",
    "\n",
    "# data"
   ]
  },
  {
   "cell_type": "code",
   "execution_count": 112,
   "metadata": {},
   "outputs": [
    {
     "data": {
      "text/plain": [
       "624"
      ]
     },
     "execution_count": 112,
     "metadata": {},
     "output_type": "execute_result"
    }
   ],
   "source": [
    "inc = True # Flag for increasing or decreasing\n",
    "safe = True # Flag for checking safe or not\n",
    "safeCount = 0\n",
    "data2 = [] # List for part 2\n",
    "\n",
    "for j in range(len(data)):\n",
    "\n",
    "    if data[j][0] < data[j][1]:\n",
    "        inc = True\n",
    "    else:\n",
    "        inc = False\n",
    "\n",
    "    safe = True\n",
    "\n",
    "    for k in range(1, len(data[j])):\n",
    "        if inc == True:\n",
    "            if data[j][k] - data[j][k-1] == 1 or data[j][k] - data[j][k-1] == 2 or data[j][k] - data[j][k-1] == 3:\n",
    "                pass\n",
    "            else:\n",
    "                safe = False\n",
    "                break\n",
    "        else:\n",
    "            if data[j][k-1] - data[j][k] == 1 or data[j][k-1] - data[j][k] == 2 or data[j][k-1] - data[j][k] == 3:\n",
    "                pass\n",
    "            else:\n",
    "                safe = False\n",
    "                break\n",
    "    \n",
    "    if safe == True:\n",
    "        # print (data[j])\n",
    "        safeCount += 1\n",
    "    else:\n",
    "        data2.append(data[j])\n",
    "\n",
    "safeCount"
   ]
  },
  {
   "cell_type": "code",
   "execution_count": 115,
   "metadata": {},
   "outputs": [
    {
     "data": {
      "text/plain": [
       "658"
      ]
     },
     "execution_count": 115,
     "metadata": {},
     "output_type": "execute_result"
    }
   ],
   "source": [
    "# Part 2\n",
    "for n in range(len(data2)):\n",
    "\n",
    "    for m in range(len(data2[n])):\n",
    "        newEntry = data2[n][:m] + data2[n][m+1:]\n",
    "        inc = None\n",
    "        for o in range(1, len(newEntry)):\n",
    "            a = newEntry[o - 1]\n",
    "            b = newEntry[o]\n",
    "\n",
    "            if a > b:\n",
    "                if inc is None:\n",
    "                    inc = False\n",
    "                elif inc:\n",
    "                    break\n",
    "            else:\n",
    "                if inc is None:\n",
    "                    inc = True\n",
    "                elif not inc:\n",
    "                    break\n",
    "            \n",
    "            if abs(a-b) < 1 or abs(a-b) > 3:\n",
    "                break\n",
    "\n",
    "        else:\n",
    "            safeCount += 1\n",
    "            break\n",
    "\n",
    "\n",
    "safeCount"
   ]
  }
 ],
 "metadata": {
  "kernelspec": {
   "display_name": "Python 3",
   "language": "python",
   "name": "python3"
  },
  "language_info": {
   "codemirror_mode": {
    "name": "ipython",
    "version": 3
   },
   "file_extension": ".py",
   "mimetype": "text/x-python",
   "name": "python",
   "nbconvert_exporter": "python",
   "pygments_lexer": "ipython3",
   "version": "3.9.6"
  }
 },
 "nbformat": 4,
 "nbformat_minor": 2
}
