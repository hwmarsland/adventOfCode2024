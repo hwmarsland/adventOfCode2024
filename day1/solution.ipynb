{
 "cells": [
  {
   "cell_type": "code",
   "execution_count": 7,
   "metadata": {},
   "outputs": [],
   "source": [
    "# Part 1\n",
    "data = open('input.txt', 'r').read().split('\\n')\n",
    "leftList = []\n",
    "rightList = []\n",
    "for i in data:\n",
    "    leftList.append(int(i[0:5]))\n",
    "    rightList.append(int(i[8:]))\n",
    "\n",
    "leftList.sort()\n",
    "rightList.sort()"
   ]
  },
  {
   "cell_type": "code",
   "execution_count": 8,
   "metadata": {},
   "outputs": [
    {
     "data": {
      "text/plain": [
       "2742123"
      ]
     },
     "execution_count": 8,
     "metadata": {},
     "output_type": "execute_result"
    }
   ],
   "source": [
    "diff = 0\n",
    "for j in range(len(leftList)):\n",
    "    diff += abs(leftList[j] - rightList[j])\n",
    "\n",
    "diff"
   ]
  },
  {
   "cell_type": "code",
   "execution_count": 9,
   "metadata": {},
   "outputs": [],
   "source": [
    "# Part 2\n",
    "simScoreDict = dict.fromkeys(leftList, 0)\n",
    "for k in rightList:\n",
    "    try:\n",
    "        simScoreDict[k] += 1\n",
    "    except KeyError as e:\n",
    "        pass"
   ]
  },
  {
   "cell_type": "code",
   "execution_count": 10,
   "metadata": {},
   "outputs": [
    {
     "data": {
      "text/plain": [
       "21328497"
      ]
     },
     "execution_count": 10,
     "metadata": {},
     "output_type": "execute_result"
    }
   ],
   "source": [
    "simScore = 0\n",
    "for l in simScoreDict.keys():\n",
    "    simScore += (l * simScoreDict[l])\n",
    "\n",
    "simScore"
   ]
  }
 ],
 "metadata": {
  "kernelspec": {
   "display_name": "Python 3",
   "language": "python",
   "name": "python3"
  },
  "language_info": {
   "codemirror_mode": {
    "name": "ipython",
    "version": 3
   },
   "file_extension": ".py",
   "mimetype": "text/x-python",
   "name": "python",
   "nbconvert_exporter": "python",
   "pygments_lexer": "ipython3",
   "version": "3.9.6"
  }
 },
 "nbformat": 4,
 "nbformat_minor": 2
}
