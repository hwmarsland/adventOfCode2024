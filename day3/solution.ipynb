{
 "cells": [
  {
   "cell_type": "code",
   "execution_count": 16,
   "metadata": {},
   "outputs": [],
   "source": [
    "# Part 1\n",
    "import re\n",
    "data = open('input.txt', 'r').read()\n",
    "\n",
    "# data"
   ]
  },
  {
   "cell_type": "code",
   "execution_count": 17,
   "metadata": {},
   "outputs": [
    {
     "data": {
      "text/plain": [
       "160672468"
      ]
     },
     "execution_count": 17,
     "metadata": {},
     "output_type": "execute_result"
    }
   ],
   "source": [
    "multiples = re.findall(\"mul\\(\\d+,\\d+\\)\", data)\n",
    "\n",
    "product = 0\n",
    "for i in multiples:\n",
    "    split = [a for a in i.split(',')]\n",
    "    pt1 = split[0][4:]\n",
    "    pt2 = split[1][:-1]\n",
    "    product += (int(pt1) * int(pt2))\n",
    "    # print(product)\n",
    "\n",
    "product"
   ]
  },
  {
   "cell_type": "code",
   "execution_count": 18,
   "metadata": {},
   "outputs": [],
   "source": [
    "# Part 2\n",
    "multiples = re.findall(\"mul\\(\\d+,\\d+\\)|do\\(\\)|don\\'t\\(\\)\", data)\n",
    "# multiples"
   ]
  },
  {
   "cell_type": "code",
   "execution_count": 19,
   "metadata": {},
   "outputs": [
    {
     "data": {
      "text/plain": [
       "84893551"
      ]
     },
     "execution_count": 19,
     "metadata": {},
     "output_type": "execute_result"
    }
   ],
   "source": [
    "do = True\n",
    "product = 0\n",
    "\n",
    "for j in multiples:\n",
    "    if j == \"don\\'t()\":\n",
    "        do = False\n",
    "    elif j == \"do()\":\n",
    "        do = True\n",
    "    else:\n",
    "        if do == True:\n",
    "            split = j.split(',')\n",
    "            pt1 = split[0][4:]\n",
    "            pt2 = split[1][:-1]\n",
    "            product += (int(pt1) * int(pt2))\n",
    "\n",
    "product"
   ]
  }
 ],
 "metadata": {
  "kernelspec": {
   "display_name": "Python 3",
   "language": "python",
   "name": "python3"
  },
  "language_info": {
   "codemirror_mode": {
    "name": "ipython",
    "version": 3
   },
   "file_extension": ".py",
   "mimetype": "text/x-python",
   "name": "python",
   "nbconvert_exporter": "python",
   "pygments_lexer": "ipython3",
   "version": "3.9.6"
  }
 },
 "nbformat": 4,
 "nbformat_minor": 2
}
